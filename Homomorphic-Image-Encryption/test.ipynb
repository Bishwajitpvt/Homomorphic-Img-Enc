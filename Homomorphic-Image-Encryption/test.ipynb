{
 "cells": [
  {
   "cell_type": "code",
   "execution_count": 26,
   "metadata": {},
   "outputs": [],
   "source": [
    "# from msilib.schema import File\n",
    "from PIL import Image\n",
    "import cv2\n",
    "import numpy as np\n",
    "import pickle as pkl\n",
    "\n",
    "import ImageCryptography as IC\n",
    "import Paillier as Pa\n",
    "\n",
    "from PIL import Image"
   ]
  },
  {
   "cell_type": "code",
   "execution_count": 27,
   "metadata": {},
   "outputs": [],
   "source": [
    "def saveImage(data,filename):\n",
    "    # Create a Pillow image from the NumPy array\n",
    "    image = Image.fromarray(data, mode='L')\n",
    "\n",
    "    # Save the image as a PNG file\n",
    "    image.save(filename)"
   ]
  },
  {
   "cell_type": "code",
   "execution_count": 28,
   "metadata": {},
   "outputs": [
    {
     "name": "stdout",
     "output_type": "stream",
     "text": [
      "---\n",
      "Public Key :\n",
      "n:\t59448334891748046292676675534726622836359384549905685266236214582295888549787\n",
      "---\n"
     ]
    }
   ],
   "source": [
    "publicKey, privateKey = Pa.generate_keys()\n",
    "print(publicKey.__repr__())\n",
    "\n",
    "im = Image.open(r\"S:\\Homomorphic-Image-Encryption-master\\Homomorphic-Image-Encryption\\test-images\\lena512gray.bmp\")\n",
    "# im.show()\n",
    "\n",
    "encrypt_image = IC.ImgEncrypt(publicKey,im)\n",
    "inc_bright = IC.homomorphicBrightness(publicKey,encrypt_image,30)"
   ]
  },
  {
   "cell_type": "code",
   "execution_count": 18,
   "metadata": {},
   "outputs": [],
   "source": [
    "pkl.dump(encrypt_image,open(\"data.pkl\",\"wb\"))"
   ]
  },
  {
   "cell_type": "code",
   "execution_count": 29,
   "metadata": {},
   "outputs": [],
   "source": [
    "data = inc_bright.astype(dtype=np.float64)"
   ]
  },
  {
   "cell_type": "code",
   "execution_count": 30,
   "metadata": {},
   "outputs": [],
   "source": [
    "saveImage(data,\"encrypted-images/out-moongi-enc.bmp\")\n"
   ]
  },
  {
   "cell_type": "code",
   "execution_count": 36,
   "metadata": {},
   "outputs": [],
   "source": [
    "im = IC.ImgDecrypt(publicKey,privateKey,inc_bright)\n",
    "im.save(\"encrypted-images/out-moongi-dec.bmp\")\n",
    "\n",
    "im.show()"
   ]
  }
 ],
 "metadata": {
  "kernelspec": {
   "display_name": "Python 3",
   "language": "python",
   "name": "python3"
  },
  "language_info": {
   "codemirror_mode": {
    "name": "ipython",
    "version": 3
   },
   "file_extension": ".py",
   "mimetype": "text/x-python",
   "name": "python",
   "nbconvert_exporter": "python",
   "pygments_lexer": "ipython3",
   "version": "3.11.4"
  }
 },
 "nbformat": 4,
 "nbformat_minor": 2
}
