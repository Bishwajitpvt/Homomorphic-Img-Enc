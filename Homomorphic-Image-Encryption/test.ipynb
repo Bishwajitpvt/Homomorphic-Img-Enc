{
 "cells": [
  {
   "cell_type": "code",
   "execution_count": 1,
   "metadata": {},
   "outputs": [],
   "source": [
    "# from msilib.schema import File\n",
    "from PIL import Image\n",
    "import cv2\n",
    "import numpy as np\n",
    "import pickle as pkl\n",
    "\n",
    "import ImageCryptography as IC\n",
    "import Paillier as Pa\n",
    "\n",
    "from PIL import Image"
   ]
  },
  {
   "cell_type": "code",
   "execution_count": 2,
   "metadata": {},
   "outputs": [],
   "source": [
    "def saveImage(data,filename):\n",
    "    # Create a Pillow image from the NumPy array\n",
    "    image = Image.fromarray(data, mode='L')\n",
    "\n",
    "    # Save the image as a PNG file\n",
    "    image.save(filename)"
   ]
  },
  {
   "cell_type": "code",
   "execution_count": 6,
   "metadata": {},
   "outputs": [
    {
     "name": "stdout",
     "output_type": "stream",
     "text": [
      "---\n",
      "Public Key :\n",
      "n:\t71243478645529603818720300551107113025135931690828428013249082718984685944219\n",
      "---\n"
     ]
    },
    {
     "ename": "KeyboardInterrupt",
     "evalue": "",
     "output_type": "error",
     "traceback": [
      "\u001b[1;31m---------------------------------------------------------------------------\u001b[0m",
      "\u001b[1;31mKeyboardInterrupt\u001b[0m                         Traceback (most recent call last)",
      "\u001b[1;32ms:\\Homomorphic-Image-Encryption-master\\Homomorphic-Image-Encryption\\test.ipynb Cell 3\u001b[0m line \u001b[0;36m7\n\u001b[0;32m      <a href='vscode-notebook-cell:/s%3A/Homomorphic-Image-Encryption-master/Homomorphic-Image-Encryption/test.ipynb#W2sZmlsZQ%3D%3D?line=3'>4</a>\u001b[0m im \u001b[39m=\u001b[39m Image\u001b[39m.\u001b[39mopen(\u001b[39mr\u001b[39m\u001b[39m\"\u001b[39m\u001b[39mS:\u001b[39m\u001b[39m\\\u001b[39m\u001b[39mHomomorphic-Image-Encryption-master\u001b[39m\u001b[39m\\\u001b[39m\u001b[39mHomomorphic-Image-Encryption\u001b[39m\u001b[39m\\\u001b[39m\u001b[39mtest-images\u001b[39m\u001b[39m\\\u001b[39m\u001b[39mlungcancer.bmp\u001b[39m\u001b[39m\"\u001b[39m)\n\u001b[0;32m      <a href='vscode-notebook-cell:/s%3A/Homomorphic-Image-Encryption-master/Homomorphic-Image-Encryption/test.ipynb#W2sZmlsZQ%3D%3D?line=4'>5</a>\u001b[0m \u001b[39m# im.show()\u001b[39;00m\n\u001b[1;32m----> <a href='vscode-notebook-cell:/s%3A/Homomorphic-Image-Encryption-master/Homomorphic-Image-Encryption/test.ipynb#W2sZmlsZQ%3D%3D?line=6'>7</a>\u001b[0m encrypt_image \u001b[39m=\u001b[39m IC\u001b[39m.\u001b[39;49mImgEncrypt(publicKey,im)\n\u001b[0;32m      <a href='vscode-notebook-cell:/s%3A/Homomorphic-Image-Encryption-master/Homomorphic-Image-Encryption/test.ipynb#W2sZmlsZQ%3D%3D?line=7'>8</a>\u001b[0m \u001b[39m# inc_bright = IC.homomorphicBrightness(publicKey,encrypt_image,30)\u001b[39;00m\n",
      "File \u001b[1;32ms:\\Homomorphic-Image-Encryption-master\\Homomorphic-Image-Encryption\\ImageCryptography.py:21\u001b[0m, in \u001b[0;36mImgEncrypt\u001b[1;34m(public_key, plainimg)\u001b[0m\n\u001b[0;32m     19\u001b[0m shape \u001b[39m=\u001b[39m cipherimg\u001b[39m.\u001b[39mshape\n\u001b[0;32m     20\u001b[0m cipherimg \u001b[39m=\u001b[39m cipherimg\u001b[39m.\u001b[39mflatten()\u001b[39m.\u001b[39mtolist()\n\u001b[1;32m---> 21\u001b[0m cipherimg \u001b[39m=\u001b[39m [Paillier\u001b[39m.\u001b[39;49mEncrypt(public_key, pix) \u001b[39mfor\u001b[39;49;00m pix \u001b[39min\u001b[39;49;00m cipherimg]\n\u001b[0;32m     23\u001b[0m \u001b[39mreturn\u001b[39;00m np\u001b[39m.\u001b[39masarray(cipherimg)\u001b[39m.\u001b[39mreshape(shape)\n",
      "File \u001b[1;32ms:\\Homomorphic-Image-Encryption-master\\Homomorphic-Image-Encryption\\ImageCryptography.py:21\u001b[0m, in \u001b[0;36m<listcomp>\u001b[1;34m(.0)\u001b[0m\n\u001b[0;32m     19\u001b[0m shape \u001b[39m=\u001b[39m cipherimg\u001b[39m.\u001b[39mshape\n\u001b[0;32m     20\u001b[0m cipherimg \u001b[39m=\u001b[39m cipherimg\u001b[39m.\u001b[39mflatten()\u001b[39m.\u001b[39mtolist()\n\u001b[1;32m---> 21\u001b[0m cipherimg \u001b[39m=\u001b[39m [Paillier\u001b[39m.\u001b[39;49mEncrypt(public_key, pix) \u001b[39mfor\u001b[39;00m pix \u001b[39min\u001b[39;00m cipherimg]\n\u001b[0;32m     23\u001b[0m \u001b[39mreturn\u001b[39;00m np\u001b[39m.\u001b[39masarray(cipherimg)\u001b[39m.\u001b[39mreshape(shape)\n",
      "File \u001b[1;32ms:\\Homomorphic-Image-Encryption-master\\Homomorphic-Image-Encryption\\Paillier.py:97\u001b[0m, in \u001b[0;36mEncrypt\u001b[1;34m(public_key, plaintext)\u001b[0m\n\u001b[0;32m     94\u001b[0m a \u001b[39m=\u001b[39m \u001b[39mpow\u001b[39m(public_key\u001b[39m.\u001b[39mg, plaintext, public_key\u001b[39m.\u001b[39mnsq)\n\u001b[0;32m     95\u001b[0m b \u001b[39m=\u001b[39m \u001b[39mpow\u001b[39m(r, public_key\u001b[39m.\u001b[39mn, public_key\u001b[39m.\u001b[39mnsq)\n\u001b[1;32m---> 97\u001b[0m ciphertext \u001b[39m=\u001b[39m (a \u001b[39m*\u001b[39;49m b) \u001b[39m%\u001b[39m public_key\u001b[39m.\u001b[39mnsq\n\u001b[0;32m     98\u001b[0m \u001b[39mreturn\u001b[39;00m ciphertext\n",
      "\u001b[1;31mKeyboardInterrupt\u001b[0m: "
     ]
    }
   ],
   "source": [
    "publicKey, privateKey = Pa.generate_keys()\n",
    "print(publicKey.__repr__())\n",
    "\n",
    "im = Image.open(r\"S:\\Homomorphic-Image-Encryption-master\\Homomorphic-Image-Encryption\\test-images\\lungcancer.bmp\")\n",
    "# im.show()\n",
    "\n",
    "encrypt_image = IC.ImgEncrypt(publicKey,im)\n",
    "inc_bright = IC.homomorphicBrightness(publicKey,encrypt_image,30)"
   ]
  },
  {
   "cell_type": "code",
   "execution_count": null,
   "metadata": {},
   "outputs": [],
   "source": [
    "pkl.dump(encrypt_image,open(\"data.pkl\",\"wb\"))"
   ]
  },
  {
   "cell_type": "code",
   "execution_count": null,
   "metadata": {},
   "outputs": [],
   "source": [
    "data = inc_bright.astype(dtype=np.float64)\n",
    "# data = encrypt_image.astype(dtype=np.float64)"
   ]
  },
  {
   "cell_type": "code",
   "execution_count": null,
   "metadata": {},
   "outputs": [],
   "source": [
    "saveImage(data,\"encrypted-images/out-moongi-enc.bmp\")\n"
   ]
  },
  {
   "cell_type": "code",
   "execution_count": null,
   "metadata": {},
   "outputs": [],
   "source": [
    "im = IC.ImgDecrypt(publicKey,privateKey,inc_bright)\n",
    "im.save(\"encrypted-images/out-moongi-dec.bmp\")\n",
    "\n",
    "im.show()"
   ]
  }
 ],
 "metadata": {
  "kernelspec": {
   "display_name": "Python 3",
   "language": "python",
   "name": "python3"
  },
  "language_info": {
   "codemirror_mode": {
    "name": "ipython",
    "version": 3
   },
   "file_extension": ".py",
   "mimetype": "text/x-python",
   "name": "python",
   "nbconvert_exporter": "python",
   "pygments_lexer": "ipython3",
   "version": "3.11.4"
  }
 },
 "nbformat": 4,
 "nbformat_minor": 2
}
